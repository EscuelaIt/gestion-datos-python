{
 "cells": [
  {
   "cell_type": "markdown",
   "id": "6fa43d60-902e-420d-ac2d-2702f8e0c41c",
   "metadata": {},
   "source": [
    "## CSV Files"
   ]
  },
  {
   "cell_type": "code",
   "execution_count": 4,
   "id": "31748b2f-5943-4209-aa33-3fb517d1b96d",
   "metadata": {},
   "outputs": [
    {
     "name": "stdout",
     "output_type": "stream",
     "text": [
      "Nombre,Nota,Edad\n",
      "\n",
      "María,16,25\n",
      "\n",
      "['María', '16', '25\\n']\n"
     ]
    }
   ],
   "source": [
    "with open('df_example.csv', 'r') as csv_file:\n",
    "    header = csv_file.readline()\n",
    "    line = csv_file.readline()\n",
    "    print(header)\n",
    "    print(line)\n",
    "    row = line.split(',')\n",
    "    print(row)"
   ]
  },
  {
   "cell_type": "code",
   "execution_count": 5,
   "id": "fa2162d0-ff23-440b-b26c-c81b32b2d90e",
   "metadata": {},
   "outputs": [],
   "source": [
    "import csv"
   ]
  },
  {
   "cell_type": "code",
   "execution_count": 9,
   "id": "c5d7e495-0fad-4438-8aaf-0965c28aaf63",
   "metadata": {},
   "outputs": [
    {
     "name": "stdout",
     "output_type": "stream",
     "text": [
      "<_csv.reader object at 0x1083829e0>\n",
      "['Nombre', 'Nota', 'Edad']\n",
      "['María', '16', '25']\n",
      "['Juan', '14', '22']\n",
      "['Andrea', '18', '28']\n",
      "['Carlos', '12', '26']\n",
      "['Laura', '15', '24']\n",
      "['Pedro', '19', '29']\n",
      "['Ana', '10', '21']\n",
      "['Alejandro', '11', '20']\n",
      "['Sofía', '20', '30']\n",
      "['David', '9', '23']\n",
      "['Marta', '17', '27']\n",
      "['Daniel', '13', '25']\n",
      "['Paula', '8', '20']\n",
      "['Adrián', '16', '29']\n",
      "['Cristina', '14', '21']\n",
      "['Sergio', '18', '28']\n",
      "['Lucía', '12', '22']\n",
      "['Jorge', '15', '26']\n",
      "['Elena', '20', '30']\n",
      "['Raúl', '10', '24']\n"
     ]
    }
   ],
   "source": [
    "with open('df_example.csv', 'r') as csv_file:\n",
    "    csv_reader = csv.reader(csv_file, delimiter=',')\n",
    "    print(csv_reader)\n",
    "    for row in csv_reader:\n",
    "        print(row)"
   ]
  },
  {
   "cell_type": "code",
   "execution_count": 10,
   "id": "906c2502-5664-4770-b8cf-0fa3bcc8d10e",
   "metadata": {},
   "outputs": [
    {
     "name": "stdout",
     "output_type": "stream",
     "text": [
      "<csv.DictReader object at 0x10823b7c0>\n",
      "{'Nombre': 'María', 'Nota': '16', 'Edad': '25'}\n",
      "{'Nombre': 'Juan', 'Nota': '14', 'Edad': '22'}\n",
      "{'Nombre': 'Andrea', 'Nota': '18', 'Edad': '28'}\n",
      "{'Nombre': 'Carlos', 'Nota': '12', 'Edad': '26'}\n",
      "{'Nombre': 'Laura', 'Nota': '15', 'Edad': '24'}\n",
      "{'Nombre': 'Pedro', 'Nota': '19', 'Edad': '29'}\n",
      "{'Nombre': 'Ana', 'Nota': '10', 'Edad': '21'}\n",
      "{'Nombre': 'Alejandro', 'Nota': '11', 'Edad': '20'}\n",
      "{'Nombre': 'Sofía', 'Nota': '20', 'Edad': '30'}\n",
      "{'Nombre': 'David', 'Nota': '9', 'Edad': '23'}\n",
      "{'Nombre': 'Marta', 'Nota': '17', 'Edad': '27'}\n",
      "{'Nombre': 'Daniel', 'Nota': '13', 'Edad': '25'}\n",
      "{'Nombre': 'Paula', 'Nota': '8', 'Edad': '20'}\n",
      "{'Nombre': 'Adrián', 'Nota': '16', 'Edad': '29'}\n",
      "{'Nombre': 'Cristina', 'Nota': '14', 'Edad': '21'}\n",
      "{'Nombre': 'Sergio', 'Nota': '18', 'Edad': '28'}\n",
      "{'Nombre': 'Lucía', 'Nota': '12', 'Edad': '22'}\n",
      "{'Nombre': 'Jorge', 'Nota': '15', 'Edad': '26'}\n",
      "{'Nombre': 'Elena', 'Nota': '20', 'Edad': '30'}\n",
      "{'Nombre': 'Raúl', 'Nota': '10', 'Edad': '24'}\n"
     ]
    }
   ],
   "source": [
    "with open('df_example.csv', 'r') as csv_file:\n",
    "    csv_reader = csv.DictReader(csv_file)\n",
    "    print(csv_reader)\n",
    "    for row in csv_reader:\n",
    "        print(row)"
   ]
  }
 ],
 "metadata": {
  "kernelspec": {
   "display_name": "Python 3 (ipykernel)",
   "language": "python",
   "name": "python3"
  },
  "language_info": {
   "codemirror_mode": {
    "name": "ipython",
    "version": 3
   },
   "file_extension": ".py",
   "mimetype": "text/x-python",
   "name": "python",
   "nbconvert_exporter": "python",
   "pygments_lexer": "ipython3",
   "version": "3.9.6"
  }
 },
 "nbformat": 4,
 "nbformat_minor": 5
}
