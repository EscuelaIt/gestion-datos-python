{
 "cells": [
  {
   "cell_type": "markdown",
   "id": "b0fdb81f-4151-42b4-b83e-e56ee4f17003",
   "metadata": {},
   "source": [
    "## Read"
   ]
  },
  {
   "cell_type": "code",
   "execution_count": 30,
   "id": "435df617-b5d5-497f-aebb-be4f8d6111b9",
   "metadata": {},
   "outputs": [
    {
     "name": "stdout",
     "output_type": "stream",
     "text": [
      "graphic = open(\"graphic.csv\", \"w\")\n",
      "\n",
      "for i in range(-10, 10):\n",
      "    for j in range(-10, 10):\n",
      "        graphic.write(str((i ** 2 - j ** 2)) + \",\")\n",
      "    graphic.write(\"\\n\")\n",
      "\n",
      "graphic.close()\n",
      "\n"
     ]
    }
   ],
   "source": [
    "grades_files = open('graphic.py', 'r')\n",
    "\n",
    "type(grades_files)\n",
    "\n",
    "grades = grades_files.read()\n",
    "\n",
    "print(grades)\n",
    "\n",
    "grades_files.close()"
   ]
  },
  {
   "cell_type": "code",
   "execution_count": 12,
   "id": "8e61a18b-4459-4962-8446-2959a9190a90",
   "metadata": {},
   "outputs": [
    {
     "data": {
      "text/plain": [
       "['5 8 51 14\\n',\n",
       " '8 5 99 18\\n',\n",
       " '5 10 67 14\\n',\n",
       " '7 7 65 14\\n',\n",
       " '9 9 100 14\\n',\n",
       " '7 7 62 13\\n',\n",
       " '5 6 81 14\\n',\n",
       " '10 7 53 20\\n',\n",
       " '10 9 88 17\\n',\n",
       " '5 9 54 17\\n']"
      ]
     },
     "execution_count": 12,
     "metadata": {},
     "output_type": "execute_result"
    }
   ],
   "source": [
    "grades_file = open('grades.txt', 'r')\n",
    "\n",
    "lines = grades_file.readlines()\n",
    "\n",
    "lines[0:10]"
   ]
  },
  {
   "cell_type": "code",
   "execution_count": 14,
   "id": "36ae51b0-8aa4-4379-bb1b-c90d48f9bdea",
   "metadata": {},
   "outputs": [
    {
     "data": {
      "text/plain": [
       "['5 8 51 14',\n",
       " '8 5 99 18',\n",
       " '5 10 67 14',\n",
       " '7 7 65 14',\n",
       " '9 9 100 14',\n",
       " '7 7 62 13',\n",
       " '5 6 81 14',\n",
       " '10 7 53 20',\n",
       " '10 9 88 17',\n",
       " '5 9 54 17']"
      ]
     },
     "execution_count": 14,
     "metadata": {},
     "output_type": "execute_result"
    }
   ],
   "source": [
    "grades = []\n",
    "\n",
    "for i, line in enumerate(lines):\n",
    "    if line[-1] == '\\n':\n",
    "        line = line[:-1]\n",
    "    grades.append(line)\n",
    "\n",
    "grades[:10]"
   ]
  },
  {
   "cell_type": "markdown",
   "id": "91dc8b91-b1b0-43a5-be07-76153bf7ff08",
   "metadata": {},
   "source": [
    "## Write"
   ]
  },
  {
   "cell_type": "code",
   "execution_count": 27,
   "id": "994b8b42-b471-4ef3-afae-76d72f2e8449",
   "metadata": {},
   "outputs": [],
   "source": [
    "output = open('output.txt', 'w')\n",
    "\n",
    "output.write('Hola mundo!')\n",
    "output.write('Hola Escuela IT!')\n",
    "\n",
    "output.write('\\nHola a todos!')\n",
    "\n",
    "lines = ['Line1\\n', 'Line2\\n', 'Line3']\n",
    "\n",
    "output.writelines(lines)\n",
    "\n",
    "output.close()"
   ]
  },
  {
   "cell_type": "code",
   "execution_count": 26,
   "id": "9b0ac1e6-1291-4bfd-950f-8a7d015fa979",
   "metadata": {},
   "outputs": [],
   "source": [
    "output = open('output.txt', 'w')\n",
    "\n",
    "output.write('\\nLine4')\n",
    "\n",
    "output.close()"
   ]
  },
  {
   "cell_type": "code",
   "execution_count": 28,
   "id": "cf1a5c5e-8a44-4734-97c7-66d8a9486474",
   "metadata": {},
   "outputs": [],
   "source": [
    "output = open('output.txt', 'a')\n",
    "\n",
    "output.write('\\nLine4')\n",
    "\n",
    "output.close()"
   ]
  }
 ],
 "metadata": {
  "kernelspec": {
   "display_name": "Python 3 (ipykernel)",
   "language": "python",
   "name": "python3"
  },
  "language_info": {
   "codemirror_mode": {
    "name": "ipython",
    "version": 3
   },
   "file_extension": ".py",
   "mimetype": "text/x-python",
   "name": "python",
   "nbconvert_exporter": "python",
   "pygments_lexer": "ipython3",
   "version": "3.9.6"
  }
 },
 "nbformat": 4,
 "nbformat_minor": 5
}
